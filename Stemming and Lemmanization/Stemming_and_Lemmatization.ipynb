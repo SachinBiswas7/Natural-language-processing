{
  "nbformat": 4,
  "nbformat_minor": 0,
  "metadata": {
    "colab": {
      "provenance": [],
      "collapsed_sections": [
        "-CWWxp2puPg8",
        "l5rYXubmuiNz",
        "7vrfyUVEvHyM",
        "mqb2QA5dvRQz"
      ]
    },
    "kernelspec": {
      "name": "python3",
      "display_name": "Python 3"
    },
    "language_info": {
      "name": "python"
    }
  },
  "cells": [
    {
      "cell_type": "code",
      "source": [
        "import nltk\n",
        "import spacy"
      ],
      "metadata": {
        "id": "3OGzY7-Yprp1"
      },
      "execution_count": 12,
      "outputs": []
    },
    {
      "cell_type": "markdown",
      "source": [
        "##Stemming"
      ],
      "metadata": {
        "id": "-CWWxp2puPg8"
      }
    },
    {
      "cell_type": "code",
      "source": [
        "from nltk.stem import PorterStemmer\n",
        "stemmer = PorterStemmer()"
      ],
      "metadata": {
        "id": "-iNBUabrpzrk"
      },
      "execution_count": 13,
      "outputs": []
    },
    {
      "cell_type": "code",
      "source": [
        "words = [\"eating\", \"eats\", \"eat\", \"ate\"]\n",
        "\n",
        "for word in words:\n",
        "    print(word ,\"--\",stemmer.stem(word))"
      ],
      "metadata": {
        "colab": {
          "base_uri": "https://localhost:8080/"
        },
        "id": "YZTCctmPqAwU",
        "outputId": "48fef038-8a25-4089-9d7d-f8b37a4b2759"
      },
      "execution_count": 14,
      "outputs": [
        {
          "output_type": "stream",
          "name": "stdout",
          "text": [
            "eating -- eat\n",
            "eats -- eat\n",
            "eat -- eat\n",
            "ate -- ate\n"
          ]
        }
      ]
    },
    {
      "cell_type": "markdown",
      "source": [
        "##Lemmatization"
      ],
      "metadata": {
        "id": "l5rYXubmuiNz"
      }
    },
    {
      "cell_type": "code",
      "source": [
        "nlp = spacy.load(\"en_core_web_sm\")\n",
        "\n",
        "doc = nlp(\"eating eats eat ate better\")\n",
        "\n",
        "for token in doc:\n",
        "    print(token, \"--\", token.lemma_)"
      ],
      "metadata": {
        "colab": {
          "base_uri": "https://localhost:8080/"
        },
        "id": "7V7uU2VIqWwU",
        "outputId": "1b172b94-b454-4123-cfa9-5daf0bc6f4cc"
      },
      "execution_count": 16,
      "outputs": [
        {
          "output_type": "stream",
          "name": "stdout",
          "text": [
            "eating -- eat\n",
            "eats -- eat\n",
            "eat -- eat\n",
            "ate -- eat\n",
            "better -- well\n"
          ]
        }
      ]
    },
    {
      "cell_type": "code",
      "source": [
        "nlp.pipe_names"
      ],
      "metadata": {
        "colab": {
          "base_uri": "https://localhost:8080/"
        },
        "id": "J3tS3Nq1ryos",
        "outputId": "0307ae5c-2536-4360-fa06-c096abb2ea56"
      },
      "execution_count": 22,
      "outputs": [
        {
          "output_type": "execute_result",
          "data": {
            "text/plain": [
              "['tok2vec', 'tagger', 'parser', 'attribute_ruler', 'lemmatizer', 'ner']"
            ]
          },
          "metadata": {},
          "execution_count": 22
        }
      ]
    },
    {
      "cell_type": "code",
      "source": [
        "ar = nlp.get_pipe(\"attribute_ruler\")\n",
        "ar.add([[{\"TEXT\": \"Bro\"}],[{\"TEXT\": \"Brah\"}]],{\"LEMMA\": \"Brother\"})\n",
        "doc = nlp(\"Bro brah\")\n",
        "for token in doc:\n",
        "    print(token, \"--\", token.lemma_)"
      ],
      "metadata": {
        "colab": {
          "base_uri": "https://localhost:8080/"
        },
        "id": "Sq368wlfr9XE",
        "outputId": "fd11b959-1f4f-47f7-fad7-96947056f10e"
      },
      "execution_count": 24,
      "outputs": [
        {
          "output_type": "stream",
          "name": "stdout",
          "text": [
            "Bro -- Brother\n",
            "brah -- brah\n"
          ]
        }
      ]
    },
    {
      "cell_type": "code",
      "source": [],
      "metadata": {
        "id": "nO37n2oOu80z"
      },
      "execution_count": null,
      "outputs": []
    },
    {
      "cell_type": "markdown",
      "source": [
        "##Exercise\n"
      ],
      "metadata": {
        "id": "9H98hxr9vArk"
      }
    },
    {
      "cell_type": "markdown",
      "source": [
        "###Exercise1:\n",
        "\n",
        "Convert these list of words into base form using Stemming and Lemmatization and observe the transformations\n",
        "Write a short note on the words that have different base words using stemming and Lemmatization"
      ],
      "metadata": {
        "id": "7vrfyUVEvHyM"
      }
    },
    {
      "cell_type": "code",
      "source": [
        "#using stemming in nltk\n",
        "lst_words = ['running', 'painting', 'walking', 'dressing', 'likely', 'children', 'whom', 'good', 'ate', 'fishing']\n",
        "for word in lst_words:\n",
        "    print(word ,\"--\",stemmer.stem(word))\n"
      ],
      "metadata": {
        "colab": {
          "base_uri": "https://localhost:8080/"
        },
        "id": "UObgJGJGvHc3",
        "outputId": "fc08e724-dca5-4498-93f1-86db3da9cfd3"
      },
      "execution_count": 25,
      "outputs": [
        {
          "output_type": "stream",
          "name": "stdout",
          "text": [
            "running -- run\n",
            "painting -- paint\n",
            "walking -- walk\n",
            "dressing -- dress\n",
            "likely -- like\n",
            "children -- children\n",
            "whom -- whom\n",
            "good -- good\n",
            "ate -- ate\n",
            "fishing -- fish\n"
          ]
        }
      ]
    },
    {
      "cell_type": "code",
      "source": [
        "#using lemmatization in spacy\n",
        "\n",
        "doc = nlp(\"running painting walking dressing likely children who good ate fishing\")\n",
        "\n",
        "for token in doc:\n",
        "    print(token, \"--\", token.lemma_)"
      ],
      "metadata": {
        "colab": {
          "base_uri": "https://localhost:8080/"
        },
        "id": "iZ-K3RGyvF0D",
        "outputId": "dab0cbd7-864b-479f-88fe-142270c65b0b"
      },
      "execution_count": 26,
      "outputs": [
        {
          "output_type": "stream",
          "name": "stdout",
          "text": [
            "running -- run\n",
            "painting -- paint\n",
            "walking -- walk\n",
            "dressing -- dress\n",
            "likely -- likely\n",
            "children -- child\n",
            "who -- who\n",
            "good -- good\n",
            "ate -- eat\n",
            "fishing -- fishing\n"
          ]
        }
      ]
    },
    {
      "cell_type": "markdown",
      "source": [
        "###Exercise2:\n",
        "\n",
        " convert the given text into it's base form using both stemming and lemmatization"
      ],
      "metadata": {
        "id": "mqb2QA5dvRQz"
      }
    },
    {
      "cell_type": "code",
      "source": [
        "text = \"\"\"Latha is very multi talented girl.She is good at many skills like dancing, running, singing, playing.She also likes eating Pav Bhagi. she has a\n",
        "habit of fishing and swimming too.Besides all this, she is a wonderful at cooking too.\n",
        "\"\"\""
      ],
      "metadata": {
        "id": "bQWRIgECvVeY"
      },
      "execution_count": 38,
      "outputs": []
    },
    {
      "cell_type": "code",
      "source": [
        "#using stemming in nltk\n",
        "\n",
        "\n",
        "#step1: Word tokenizing\n",
        "text = nltk.word_tokenize(text)\n",
        "\n",
        "\n",
        "\n",
        "\n",
        "#step2: getting the base form for each token using stemmer\n",
        "stemmer = PorterStemmer()\n",
        "text = [stemmer.stem(word) for word in text]\n",
        "\n",
        "\n",
        "\n",
        "\n",
        "#step3: joining all words in a list into string using 'join()'\n",
        "text = \" \".join(text)\n",
        "print(text)\n",
        "\n"
      ],
      "metadata": {
        "colab": {
          "base_uri": "https://localhost:8080/"
        },
        "id": "JywhPmxrvZKL",
        "outputId": "d2e9b9c8-3cbe-4add-b000-a995a62484c5"
      },
      "execution_count": 40,
      "outputs": [
        {
          "output_type": "stream",
          "name": "stdout",
          "text": [
            "latha is veri multi talent girl.sh is good at mani skill like danc , run , sing , playing.sh also like eat pav bhagi . she ha a habit of fish and swim too.besid all thi , she is a wonder at cook too .\n"
          ]
        }
      ]
    },
    {
      "cell_type": "code",
      "source": [
        "#using lemmatisation in spacy\n",
        "\n",
        "\n",
        "#step1: Creating the object for the given text\n",
        "doc = nlp(text)\n",
        "\n",
        "\n",
        "\n",
        "#step2: getting the base form for each token using spacy 'lemma_'\n",
        "text = [token.lemma_ for token in doc]\n",
        "\n",
        "\n",
        "\n",
        "\n",
        "#step3: joining all words in a list into string using 'join()'\n",
        "print(\" \".join(text))"
      ],
      "metadata": {
        "colab": {
          "base_uri": "https://localhost:8080/"
        },
        "id": "hNPWfkhjvh98",
        "outputId": "7ba8ef12-4987-4b26-f0a7-6726e6e8cad9"
      },
      "execution_count": 41,
      "outputs": [
        {
          "output_type": "stream",
          "name": "stdout",
          "text": [
            "latha be veri multi talent girl.sh be good at mani skill like danc , run , sing , playing.sh also like eat pav bhagi . she ha a habit of fish and swim too.besid all thi , she be a wonder at cook too .\n"
          ]
        }
      ]
    }
  ]
}