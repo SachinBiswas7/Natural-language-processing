{
  "cells": [
    {
      "cell_type": "markdown",
      "metadata": {
        "id": "KYoVrnewenmh"
      },
      "source": [
        "### Bag of words: Exercises\n",
        "\n",
        "\n",
        "\n",
        "*   In this exercise, I am going to classify whether a given movie review is\n",
        "positive or negative.\n",
        "*    I will use the Bag of Words approach for pre-processing the text and apply different classification algorithms.\n",
        "\n",
        "\n",
        "*    Sklearn's CountVectorizer has inbuilt implementations for Bag of Words.\n"
      ]
    },
    {
      "cell_type": "code",
      "execution_count": null,
      "metadata": {
        "id": "JW6MPIjib_4G"
      },
      "outputs": [],
      "source": [
        "#Import necessary libraries\n",
        "\n",
        "import pandas as pd\n",
        "import numpy as np\n",
        "from sklearn.model_selection import train_test_split\n",
        "from sklearn.feature_extraction.text import CountVectorizer\n",
        "from sklearn.ensemble import RandomForestClassifier\n",
        "from  sklearn.neighbors import KNeighborsClassifier\n",
        "from sklearn.naive_bayes import MultinomialNB\n",
        "from sklearn.pipeline import Pipeline\n",
        "from sklearn.metrics import classification_report"
      ]
    },
    {
      "cell_type": "markdown",
      "metadata": {
        "id": "kDATDCL8NMML"
      },
      "source": [
        "### **About Data: IMDB Dataset**\n",
        "\n",
        "Credits: https://www.kaggle.com/datasets/lakshmi25npathi/imdb-dataset-of-50k-movie-reviews?resource=download\n",
        "\n",
        "\n",
        "- This data consists of two columns.\n",
        "        - review\n",
        "        - sentiment\n",
        "- Reviews are the statements given by users after watching the movie.\n",
        "- sentiment feature tells whether the given review is positive or negative."
      ]
    },
    {
      "cell_type": "code",
      "execution_count": null,
      "metadata": {
        "colab": {
          "base_uri": "https://localhost:8080/",
          "height": 206
        },
        "id": "beL29JwEb_7O",
        "outputId": "16e2f78a-1f73-442a-b9d6-538387a07cd5"
      },
      "outputs": [
        {
          "output_type": "execute_result",
          "data": {
            "text/plain": [
              "                                              review sentiment\n",
              "0  I first saw Jake Gyllenhaal in Jarhead (2005) ...  positive\n",
              "1  I enjoyed the movie and the story immensely! I...  positive\n",
              "2  I had a hard time sitting through this. Every ...  negative\n",
              "3  It's hard to imagine that anyone could find th...  negative\n",
              "4  This is one military drama I like a lot! Tom B...  positive"
            ],
            "text/html": [
              "\n",
              "  <div id=\"df-3a932a73-fd64-4752-b8a5-e2858404c5e8\" class=\"colab-df-container\">\n",
              "    <div>\n",
              "<style scoped>\n",
              "    .dataframe tbody tr th:only-of-type {\n",
              "        vertical-align: middle;\n",
              "    }\n",
              "\n",
              "    .dataframe tbody tr th {\n",
              "        vertical-align: top;\n",
              "    }\n",
              "\n",
              "    .dataframe thead th {\n",
              "        text-align: right;\n",
              "    }\n",
              "</style>\n",
              "<table border=\"1\" class=\"dataframe\">\n",
              "  <thead>\n",
              "    <tr style=\"text-align: right;\">\n",
              "      <th></th>\n",
              "      <th>review</th>\n",
              "      <th>sentiment</th>\n",
              "    </tr>\n",
              "  </thead>\n",
              "  <tbody>\n",
              "    <tr>\n",
              "      <th>0</th>\n",
              "      <td>I first saw Jake Gyllenhaal in Jarhead (2005) ...</td>\n",
              "      <td>positive</td>\n",
              "    </tr>\n",
              "    <tr>\n",
              "      <th>1</th>\n",
              "      <td>I enjoyed the movie and the story immensely! I...</td>\n",
              "      <td>positive</td>\n",
              "    </tr>\n",
              "    <tr>\n",
              "      <th>2</th>\n",
              "      <td>I had a hard time sitting through this. Every ...</td>\n",
              "      <td>negative</td>\n",
              "    </tr>\n",
              "    <tr>\n",
              "      <th>3</th>\n",
              "      <td>It's hard to imagine that anyone could find th...</td>\n",
              "      <td>negative</td>\n",
              "    </tr>\n",
              "    <tr>\n",
              "      <th>4</th>\n",
              "      <td>This is one military drama I like a lot! Tom B...</td>\n",
              "      <td>positive</td>\n",
              "    </tr>\n",
              "  </tbody>\n",
              "</table>\n",
              "</div>\n",
              "    <div class=\"colab-df-buttons\">\n",
              "\n",
              "  <div class=\"colab-df-container\">\n",
              "    <button class=\"colab-df-convert\" onclick=\"convertToInteractive('df-3a932a73-fd64-4752-b8a5-e2858404c5e8')\"\n",
              "            title=\"Convert this dataframe to an interactive table.\"\n",
              "            style=\"display:none;\">\n",
              "\n",
              "  <svg xmlns=\"http://www.w3.org/2000/svg\" height=\"24px\" viewBox=\"0 -960 960 960\">\n",
              "    <path d=\"M120-120v-720h720v720H120Zm60-500h600v-160H180v160Zm220 220h160v-160H400v160Zm0 220h160v-160H400v160ZM180-400h160v-160H180v160Zm440 0h160v-160H620v160ZM180-180h160v-160H180v160Zm440 0h160v-160H620v160Z\"/>\n",
              "  </svg>\n",
              "    </button>\n",
              "\n",
              "  <style>\n",
              "    .colab-df-container {\n",
              "      display:flex;\n",
              "      gap: 12px;\n",
              "    }\n",
              "\n",
              "    .colab-df-convert {\n",
              "      background-color: #E8F0FE;\n",
              "      border: none;\n",
              "      border-radius: 50%;\n",
              "      cursor: pointer;\n",
              "      display: none;\n",
              "      fill: #1967D2;\n",
              "      height: 32px;\n",
              "      padding: 0 0 0 0;\n",
              "      width: 32px;\n",
              "    }\n",
              "\n",
              "    .colab-df-convert:hover {\n",
              "      background-color: #E2EBFA;\n",
              "      box-shadow: 0px 1px 2px rgba(60, 64, 67, 0.3), 0px 1px 3px 1px rgba(60, 64, 67, 0.15);\n",
              "      fill: #174EA6;\n",
              "    }\n",
              "\n",
              "    .colab-df-buttons div {\n",
              "      margin-bottom: 4px;\n",
              "    }\n",
              "\n",
              "    [theme=dark] .colab-df-convert {\n",
              "      background-color: #3B4455;\n",
              "      fill: #D2E3FC;\n",
              "    }\n",
              "\n",
              "    [theme=dark] .colab-df-convert:hover {\n",
              "      background-color: #434B5C;\n",
              "      box-shadow: 0px 1px 3px 1px rgba(0, 0, 0, 0.15);\n",
              "      filter: drop-shadow(0px 1px 2px rgba(0, 0, 0, 0.3));\n",
              "      fill: #FFFFFF;\n",
              "    }\n",
              "  </style>\n",
              "\n",
              "    <script>\n",
              "      const buttonEl =\n",
              "        document.querySelector('#df-3a932a73-fd64-4752-b8a5-e2858404c5e8 button.colab-df-convert');\n",
              "      buttonEl.style.display =\n",
              "        google.colab.kernel.accessAllowed ? 'block' : 'none';\n",
              "\n",
              "      async function convertToInteractive(key) {\n",
              "        const element = document.querySelector('#df-3a932a73-fd64-4752-b8a5-e2858404c5e8');\n",
              "        const dataTable =\n",
              "          await google.colab.kernel.invokeFunction('convertToInteractive',\n",
              "                                                    [key], {});\n",
              "        if (!dataTable) return;\n",
              "\n",
              "        const docLinkHtml = 'Like what you see? Visit the ' +\n",
              "          '<a target=\"_blank\" href=https://colab.research.google.com/notebooks/data_table.ipynb>data table notebook</a>'\n",
              "          + ' to learn more about interactive tables.';\n",
              "        element.innerHTML = '';\n",
              "        dataTable['output_type'] = 'display_data';\n",
              "        await google.colab.output.renderOutput(dataTable, element);\n",
              "        const docLink = document.createElement('div');\n",
              "        docLink.innerHTML = docLinkHtml;\n",
              "        element.appendChild(docLink);\n",
              "      }\n",
              "    </script>\n",
              "  </div>\n",
              "\n",
              "\n",
              "<div id=\"df-fe3f5e32-1705-49af-8fe7-7fff5271d3cb\">\n",
              "  <button class=\"colab-df-quickchart\" onclick=\"quickchart('df-fe3f5e32-1705-49af-8fe7-7fff5271d3cb')\"\n",
              "            title=\"Suggest charts\"\n",
              "            style=\"display:none;\">\n",
              "\n",
              "<svg xmlns=\"http://www.w3.org/2000/svg\" height=\"24px\"viewBox=\"0 0 24 24\"\n",
              "     width=\"24px\">\n",
              "    <g>\n",
              "        <path d=\"M19 3H5c-1.1 0-2 .9-2 2v14c0 1.1.9 2 2 2h14c1.1 0 2-.9 2-2V5c0-1.1-.9-2-2-2zM9 17H7v-7h2v7zm4 0h-2V7h2v10zm4 0h-2v-4h2v4z\"/>\n",
              "    </g>\n",
              "</svg>\n",
              "  </button>\n",
              "\n",
              "<style>\n",
              "  .colab-df-quickchart {\n",
              "      --bg-color: #E8F0FE;\n",
              "      --fill-color: #1967D2;\n",
              "      --hover-bg-color: #E2EBFA;\n",
              "      --hover-fill-color: #174EA6;\n",
              "      --disabled-fill-color: #AAA;\n",
              "      --disabled-bg-color: #DDD;\n",
              "  }\n",
              "\n",
              "  [theme=dark] .colab-df-quickchart {\n",
              "      --bg-color: #3B4455;\n",
              "      --fill-color: #D2E3FC;\n",
              "      --hover-bg-color: #434B5C;\n",
              "      --hover-fill-color: #FFFFFF;\n",
              "      --disabled-bg-color: #3B4455;\n",
              "      --disabled-fill-color: #666;\n",
              "  }\n",
              "\n",
              "  .colab-df-quickchart {\n",
              "    background-color: var(--bg-color);\n",
              "    border: none;\n",
              "    border-radius: 50%;\n",
              "    cursor: pointer;\n",
              "    display: none;\n",
              "    fill: var(--fill-color);\n",
              "    height: 32px;\n",
              "    padding: 0;\n",
              "    width: 32px;\n",
              "  }\n",
              "\n",
              "  .colab-df-quickchart:hover {\n",
              "    background-color: var(--hover-bg-color);\n",
              "    box-shadow: 0 1px 2px rgba(60, 64, 67, 0.3), 0 1px 3px 1px rgba(60, 64, 67, 0.15);\n",
              "    fill: var(--button-hover-fill-color);\n",
              "  }\n",
              "\n",
              "  .colab-df-quickchart-complete:disabled,\n",
              "  .colab-df-quickchart-complete:disabled:hover {\n",
              "    background-color: var(--disabled-bg-color);\n",
              "    fill: var(--disabled-fill-color);\n",
              "    box-shadow: none;\n",
              "  }\n",
              "\n",
              "  .colab-df-spinner {\n",
              "    border: 2px solid var(--fill-color);\n",
              "    border-color: transparent;\n",
              "    border-bottom-color: var(--fill-color);\n",
              "    animation:\n",
              "      spin 1s steps(1) infinite;\n",
              "  }\n",
              "\n",
              "  @keyframes spin {\n",
              "    0% {\n",
              "      border-color: transparent;\n",
              "      border-bottom-color: var(--fill-color);\n",
              "      border-left-color: var(--fill-color);\n",
              "    }\n",
              "    20% {\n",
              "      border-color: transparent;\n",
              "      border-left-color: var(--fill-color);\n",
              "      border-top-color: var(--fill-color);\n",
              "    }\n",
              "    30% {\n",
              "      border-color: transparent;\n",
              "      border-left-color: var(--fill-color);\n",
              "      border-top-color: var(--fill-color);\n",
              "      border-right-color: var(--fill-color);\n",
              "    }\n",
              "    40% {\n",
              "      border-color: transparent;\n",
              "      border-right-color: var(--fill-color);\n",
              "      border-top-color: var(--fill-color);\n",
              "    }\n",
              "    60% {\n",
              "      border-color: transparent;\n",
              "      border-right-color: var(--fill-color);\n",
              "    }\n",
              "    80% {\n",
              "      border-color: transparent;\n",
              "      border-right-color: var(--fill-color);\n",
              "      border-bottom-color: var(--fill-color);\n",
              "    }\n",
              "    90% {\n",
              "      border-color: transparent;\n",
              "      border-bottom-color: var(--fill-color);\n",
              "    }\n",
              "  }\n",
              "</style>\n",
              "\n",
              "  <script>\n",
              "    async function quickchart(key) {\n",
              "      const quickchartButtonEl =\n",
              "        document.querySelector('#' + key + ' button');\n",
              "      quickchartButtonEl.disabled = true;  // To prevent multiple clicks.\n",
              "      quickchartButtonEl.classList.add('colab-df-spinner');\n",
              "      try {\n",
              "        const charts = await google.colab.kernel.invokeFunction(\n",
              "            'suggestCharts', [key], {});\n",
              "      } catch (error) {\n",
              "        console.error('Error during call to suggestCharts:', error);\n",
              "      }\n",
              "      quickchartButtonEl.classList.remove('colab-df-spinner');\n",
              "      quickchartButtonEl.classList.add('colab-df-quickchart-complete');\n",
              "    }\n",
              "    (() => {\n",
              "      let quickchartButtonEl =\n",
              "        document.querySelector('#df-fe3f5e32-1705-49af-8fe7-7fff5271d3cb button');\n",
              "      quickchartButtonEl.style.display =\n",
              "        google.colab.kernel.accessAllowed ? 'block' : 'none';\n",
              "    })();\n",
              "  </script>\n",
              "</div>\n",
              "\n",
              "    </div>\n",
              "  </div>\n"
            ],
            "application/vnd.google.colaboratory.intrinsic+json": {
              "type": "dataframe",
              "variable_name": "df",
              "summary": "{\n  \"name\": \"df\",\n  \"rows\": 19000,\n  \"fields\": [\n    {\n      \"column\": \"review\",\n      \"properties\": {\n        \"dtype\": \"string\",\n        \"num_unique_values\": 18939,\n        \"samples\": [\n          \"I could never remember the name of this show. I use to watch it when I was 8. I remember staying up late when I wasn't suppose to just so I could watch this show. It was the best show to me. From what I remember of it, it is still great. This showed starred Lucas Black making him the first boy I ever had a crush on. I am from the country, therefore boys with an accent have no appeal to me, but for him I would definitely make an exception. Which after seeing Crazy in Alabama, Friday Night Lights, and Tokyo Drift you should see why. He is a great actor and has been since he was a kid. I miss this show and wish it would come back out. If anyone ever sees where they are selling the season please email me. kywildflower16@hotmail.com\",\n          \"Wasn't sure what to expect from this film. I love watching Brosnan in any movie, he's always good, but this was totally different. He's a mess, and plays being a mess very well. In fact he reminded me of myself a few times back in uni :) So yes, there's not a lot of violence, there's not a lot of action, but the dialogue is cracking, the acting is superb and very refreshing, and it's pretty funny too :) I don't think you'll come out of the cinema going \\\"Wow! I was blown away\\\", but you'll come out smiling having enjoyed a good film. Can't ask for more than that.<br /><br />Oh, and if you're lucky, some moron will put the adverts reel in wrong and you'll get inverted, upside down, reversed (with reversed audio) adverts!! Brilliant. Nothing like watching a Jack Daniels ad where the drink goes back into the bottle from the glass with a gruff American \\\"Twin Peaks\\\" commentary :)\",\n          \"DON'T BELIEVE THE HYPE!<br /><br />I had to see why all the critics fawn over this movie. I have seen it and still don't get it. The Plot is thin, very thin. After the movie was over, I still did not know the female lead characters name and one of the two male characters did not even have a name in the credits, he is credited as \\\"the farmer\\\". I did not care about the characters, so I did not care about the movie.<br /><br />The scenery and cinematography were brilliant, but so is the stuff on National Geographic or The Discovery Channel.<br /><br />I can not recommend this movie to anyone.\"\n        ],\n        \"semantic_type\": \"\",\n        \"description\": \"\"\n      }\n    },\n    {\n      \"column\": \"sentiment\",\n      \"properties\": {\n        \"dtype\": \"category\",\n        \"num_unique_values\": 2,\n        \"samples\": [\n          \"negative\",\n          \"positive\"\n        ],\n        \"semantic_type\": \"\",\n        \"description\": \"\"\n      }\n    }\n  ]\n}"
            }
          },
          "metadata": {},
          "execution_count": 9
        }
      ],
      "source": [
        "#1. read the data provided in the same directory with name 'movies_sentiment_data.csv' and store it in df variable\n",
        "\n",
        "df= pd.read_csv('movies_sentiment_data.csv')\n",
        "\n",
        "#2. print the shape of the data\n",
        "df.shape\n",
        "\n",
        "\n",
        "#3. print top 5 datapoints\n",
        "df.head()\n"
      ]
    },
    {
      "cell_type": "code",
      "execution_count": null,
      "metadata": {
        "id": "uub1mNGKa7FL"
      },
      "outputs": [],
      "source": [
        "#creating a new column \"Category\" which represent 1 if the sentiment is positive or 0 if it is negative\n",
        "df['Category'] = np.where(df['sentiment'] == 'positive', 1, 0)\n"
      ]
    },
    {
      "cell_type": "code",
      "execution_count": null,
      "metadata": {
        "colab": {
          "base_uri": "https://localhost:8080/"
        },
        "id": "OSwPM7mub_9S",
        "outputId": "1506a5b7-139f-4534-b746-83d205de229c"
      },
      "outputs": [
        {
          "output_type": "execute_result",
          "data": {
            "text/plain": [
              "Category\n",
              "1    9500\n",
              "0    9500\n",
              "Name: count, dtype: int64"
            ]
          },
          "metadata": {},
          "execution_count": 12
        }
      ],
      "source": [
        "#check the distribution of 'Category' and see whether the Target labels are balanced or not.\n",
        "\n",
        "df['Category'].value_counts()"
      ]
    },
    {
      "cell_type": "code",
      "execution_count": null,
      "metadata": {
        "id": "IB97QiFCcAAe"
      },
      "outputs": [],
      "source": [
        "#Do the 'train-test' splitting with test size of 20%\n",
        "\n",
        "X_train, X_test, y_train, y_test = train_test_split(df['review'], df['Category'], test_size=0.2, random_state=42)"
      ]
    },
    {
      "cell_type": "markdown",
      "metadata": {
        "id": "J-pUGPqwMrDQ"
      },
      "source": [
        "**Exercise-1**\n",
        "\n",
        "1. using sklearn pipeline module create a classification pipeline to classify the movie review's positive or negative.\n",
        "\n",
        "**Note:**\n",
        "- use CountVectorizer for pre-processing the text.\n",
        "\n",
        "- use **Random Forest** as the classifier with estimators as 50 and criterion as entropy.\n",
        "- print the classification report.\n",
        "\n",
        "**References**:\n",
        "\n",
        "- https://scikit-learn.org/stable/modules/generated/sklearn.ensemble.RandomForestClassifier.html\n",
        "\n",
        "- https://scikit-learn.org/stable/modules/generated/sklearn.feature_extraction.text.CountVectorizer.html"
      ]
    },
    {
      "cell_type": "code",
      "execution_count": null,
      "metadata": {
        "colab": {
          "base_uri": "https://localhost:8080/"
        },
        "id": "CbldZv03MWkB",
        "outputId": "73a94fc9-6a5b-474c-d9be-051d62d6a86e"
      },
      "outputs": [
        {
          "output_type": "stream",
          "name": "stdout",
          "text": [
            "              precision    recall  f1-score   support\n",
            "\n",
            "           0       0.83      0.85      0.84      1864\n",
            "           1       0.85      0.83      0.84      1936\n",
            "\n",
            "    accuracy                           0.84      3800\n",
            "   macro avg       0.84      0.84      0.84      3800\n",
            "weighted avg       0.84      0.84      0.84      3800\n",
            "\n"
          ]
        }
      ],
      "source": [
        "from os import pipe\n",
        "#1. create a pipeline object\n",
        "rf = Pipeline([\n",
        "    ('vectorizer', CountVectorizer()),\n",
        "    ('classifier', RandomForestClassifier(n_estimators=50, criterion='entropy'))\n",
        "])\n",
        "\n",
        "\n",
        "\n",
        "\n",
        "#2. fit with X_train and y_train\n",
        "rf.fit(X_train, y_train)\n",
        "\n",
        "\n",
        "\n",
        "#3. get the predictions for X_test and store it in y_pred\n",
        "y_pred = rf.predict(X_test)\n",
        "\n",
        "\n",
        "\n",
        "#4. print the classfication report\n",
        "print(classification_report(y_test, y_pred))\n"
      ]
    },
    {
      "cell_type": "markdown",
      "metadata": {
        "id": "WMVvGzqXSFYr"
      },
      "source": [
        "**Exercise-2**\n",
        "\n",
        "1. using sklearn pipeline module create a classification pipeline to classify the movie review's positive or negative..\n",
        "\n",
        "**Note:**\n",
        "- use CountVectorizer for pre-processing the text.\n",
        "- use **KNN** as the classifier with n_neighbors of 10 and metric as 'euclidean'.\n",
        "- print the classification report.\n",
        "\n",
        "**References**:\n",
        "\n",
        "- https://scikit-learn.org/stable/modules/generated/sklearn.feature_extraction.text.CountVectorizer.html\n",
        "- https://scikit-learn.org/stable/modules/generated/sklearn.neighbors.KNeighborsClassifier.html\n",
        "\n"
      ]
    },
    {
      "cell_type": "code",
      "execution_count": null,
      "metadata": {
        "colab": {
          "base_uri": "https://localhost:8080/"
        },
        "id": "tYkY77S6MWng",
        "outputId": "dc55f186-45f4-4f23-e2b2-87b8a4888284"
      },
      "outputs": [
        {
          "output_type": "stream",
          "name": "stdout",
          "text": [
            "              precision    recall  f1-score   support\n",
            "\n",
            "           0       0.64      0.64      0.64      1864\n",
            "           1       0.65      0.65      0.65      1936\n",
            "\n",
            "    accuracy                           0.65      3800\n",
            "   macro avg       0.65      0.65      0.65      3800\n",
            "weighted avg       0.65      0.65      0.65      3800\n",
            "\n"
          ]
        }
      ],
      "source": [
        "\n",
        "#1. create a pipeline object\n",
        "knn = Pipeline([\n",
        "    ('vectorizer', CountVectorizer()),\n",
        "    ('classifier', KNeighborsClassifier(n_neighbors=10, metric='euclidean'))\n",
        "])\n",
        "\n",
        "\n",
        "#2. fit with X_train and y_train\n",
        "knn.fit(X_train, y_train)\n",
        "\n",
        "\n",
        "\n",
        "#3. get the predictions for X_test and store it in y_pred\n",
        "y_pred = knn.predict(X_test)\n",
        "\n",
        "\n",
        "#4. print the classfication report\n",
        "print(classification_report(y_test, y_pred))\n"
      ]
    },
    {
      "cell_type": "markdown",
      "metadata": {
        "id": "C043HQIUa7FN"
      },
      "source": [
        "**Exercise-3**\n",
        "\n",
        "1. using sklearn pipeline module create a classification pipeline to classify the movie review's positive or negative..\n",
        "\n",
        "**Note:**\n",
        "- use CountVectorizer for pre-processing the text.\n",
        "- use **Multinomial Naive Bayes** as the classifier.\n",
        "- print the classification report.\n",
        "\n",
        "**References**:\n",
        "\n",
        "- https://scikit-learn.org/stable/modules/generated/sklearn.feature_extraction.text.CountVectorizer.html\n",
        "- https://scikit-learn.org/stable/modules/generated/sklearn.naive_bayes.MultinomialNB.html\n",
        "\n"
      ]
    },
    {
      "cell_type": "code",
      "execution_count": null,
      "metadata": {
        "colab": {
          "base_uri": "https://localhost:8080/"
        },
        "id": "73rF16c3a7FO",
        "outputId": "996055f7-c04c-4608-e9d3-c917e4ae9c85"
      },
      "outputs": [
        {
          "output_type": "stream",
          "name": "stdout",
          "text": [
            "              precision    recall  f1-score   support\n",
            "\n",
            "           0       0.82      0.88      0.85      1864\n",
            "           1       0.87      0.81      0.84      1936\n",
            "\n",
            "    accuracy                           0.84      3800\n",
            "   macro avg       0.85      0.84      0.84      3800\n",
            "weighted avg       0.85      0.84      0.84      3800\n",
            "\n"
          ]
        }
      ],
      "source": [
        "\n",
        "#1. create a pipeline object\n",
        "nb = Pipeline([\n",
        "    ('vectorizer', CountVectorizer()),\n",
        "    ('classifier', MultinomialNB())\n",
        "])\n",
        "\n",
        "\n",
        "\n",
        "#2. fit with X_train and y_train\n",
        "nb.fit(X_train, y_train)\n",
        "\n",
        "\n",
        "#3. get the predictions for X_test and store it in y_pred\n",
        "y_pred = nb.predict(X_test)\n",
        "\n",
        "\n",
        "\n",
        "#4. print the classfication report\n",
        "print(classification_report(y_test, y_pred))\n"
      ]
    },
    {
      "cell_type": "code",
      "source": [
        "p=rf.predict(['tasnu is a panda'])\n",
        "if p == 1:\n",
        "    print('positive')\n",
        "else:\n",
        "    print('negative')"
      ],
      "metadata": {
        "colab": {
          "base_uri": "https://localhost:8080/"
        },
        "id": "UHSRDIHHfAZM",
        "outputId": "2ae9e4da-47dd-4438-e02e-dcbffdc257b7"
      },
      "execution_count": null,
      "outputs": [
        {
          "output_type": "stream",
          "name": "stdout",
          "text": [
            "positive\n"
          ]
        }
      ]
    },
    {
      "cell_type": "code",
      "execution_count": null,
      "metadata": {
        "id": "pd45xT6ia7FO"
      },
      "outputs": [],
      "source": []
    }
  ],
  "metadata": {
    "colab": {
      "provenance": [],
      "gpuType": "T4"
    },
    "kernelspec": {
      "display_name": "Python 3",
      "name": "python3"
    },
    "language_info": {
      "codemirror_mode": {
        "name": "ipython",
        "version": 3
      },
      "file_extension": ".py",
      "mimetype": "text/x-python",
      "name": "python",
      "nbconvert_exporter": "python",
      "pygments_lexer": "ipython3",
      "version": "3.8.10"
    },
    "accelerator": "GPU"
  },
  "nbformat": 4,
  "nbformat_minor": 0
}