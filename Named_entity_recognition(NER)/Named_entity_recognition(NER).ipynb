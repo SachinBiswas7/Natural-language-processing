{
  "nbformat": 4,
  "nbformat_minor": 0,
  "metadata": {
    "colab": {
      "provenance": []
    },
    "kernelspec": {
      "name": "python3",
      "display_name": "Python 3"
    },
    "language_info": {
      "name": "python"
    }
  },
  "cells": [
    {
      "cell_type": "code",
      "execution_count": 2,
      "metadata": {
        "id": "QI-CcNhpUJ3p"
      },
      "outputs": [],
      "source": [
        "import spacy\n",
        "nlp= spacy.load('en_core_web_sm')"
      ]
    },
    {
      "cell_type": "code",
      "source": [
        "nlp.pipe_names"
      ],
      "metadata": {
        "colab": {
          "base_uri": "https://localhost:8080/"
        },
        "id": "Z4eLve_KehhE",
        "outputId": "c2628505-81eb-4d45-f72e-f9abc8041c0f"
      },
      "execution_count": 3,
      "outputs": [
        {
          "output_type": "execute_result",
          "data": {
            "text/plain": [
              "['tok2vec', 'tagger', 'parser', 'attribute_ruler', 'lemmatizer', 'ner']"
            ]
          },
          "metadata": {},
          "execution_count": 3
        }
      ]
    },
    {
      "cell_type": "code",
      "source": [
        "doc = nlp(\" Turja is Madarchod.\")\n",
        "\n",
        "for ent in doc.ents:\n",
        "    print(ent.text,\"--\",ent.label_,\"--\",spacy.explain(ent.label_))"
      ],
      "metadata": {
        "colab": {
          "base_uri": "https://localhost:8080/"
        },
        "id": "lJs_-rSjerT1",
        "outputId": "2dc06dcf-70bb-4da6-a296-5f024e860d10"
      },
      "execution_count": 10,
      "outputs": [
        {
          "output_type": "stream",
          "name": "stdout",
          "text": [
            "Turja -- PERSON -- People, including fictional\n",
            "Madarchod -- PERSON -- People, including fictional\n"
          ]
        }
      ]
    },
    {
      "cell_type": "code",
      "source": [
        "nlp.pipe_labels['ner']"
      ],
      "metadata": {
        "colab": {
          "base_uri": "https://localhost:8080/"
        },
        "id": "IHHzPmhVkjjN",
        "outputId": "3ba420dc-cf23-427b-9db8-2d35656ad232"
      },
      "execution_count": 11,
      "outputs": [
        {
          "output_type": "execute_result",
          "data": {
            "text/plain": [
              "['CARDINAL',\n",
              " 'DATE',\n",
              " 'EVENT',\n",
              " 'FAC',\n",
              " 'GPE',\n",
              " 'LANGUAGE',\n",
              " 'LAW',\n",
              " 'LOC',\n",
              " 'MONEY',\n",
              " 'NORP',\n",
              " 'ORDINAL',\n",
              " 'ORG',\n",
              " 'PERCENT',\n",
              " 'PERSON',\n",
              " 'PRODUCT',\n",
              " 'QUANTITY',\n",
              " 'TIME',\n",
              " 'WORK_OF_ART']"
            ]
          },
          "metadata": {},
          "execution_count": 11
        }
      ]
    },
    {
      "cell_type": "code",
      "source": [
        "!pip install Span"
      ],
      "metadata": {
        "colab": {
          "base_uri": "https://localhost:8080/"
        },
        "id": "ViN3p6fdl9t3",
        "outputId": "4db6eee1-b083-4841-d94c-b2f3612ec079"
      },
      "execution_count": 15,
      "outputs": [
        {
          "output_type": "stream",
          "name": "stdout",
          "text": [
            "Collecting Span\n",
            "  Downloading span-0.0.1.tar.gz (1.5 kB)\n",
            "  Preparing metadata (setup.py) ... \u001b[?25l\u001b[?25hdone\n",
            "Building wheels for collected packages: Span\n",
            "  Building wheel for Span (setup.py) ... \u001b[?25l\u001b[?25hdone\n",
            "  Created wheel for Span: filename=span-0.0.1-py3-none-any.whl size=1872 sha256=f818e16da528eb532923f15611a1eab341c1972b93bad892d0d73f0722dd46eb\n",
            "  Stored in directory: /root/.cache/pip/wheels/a3/1b/1b/096f5bca82a2548d438c7e8cf544fc8d78101277be82a81b1d\n",
            "Successfully built Span\n",
            "Installing collected packages: Span\n",
            "Successfully installed Span-0.0.1\n"
          ]
        }
      ]
    },
    {
      "cell_type": "code",
      "source": [
        "\n",
        "from spacy.tokens import Span\n",
        "\n",
        "s1 = Span(doc,0,1,label='ORG')\n",
        "s2 = Span(doc,2,3,label='ORG')\n",
        "\n",
        "doc.set_ents([s1,s2],default='unmodified')"
      ],
      "metadata": {
        "id": "MgDNxG1KlKXw"
      },
      "execution_count": 19,
      "outputs": []
    }
  ]
}