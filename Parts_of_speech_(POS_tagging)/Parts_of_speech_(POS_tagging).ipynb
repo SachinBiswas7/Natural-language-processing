{
  "nbformat": 4,
  "nbformat_minor": 0,
  "metadata": {
    "colab": {
      "provenance": []
    },
    "kernelspec": {
      "name": "python3",
      "display_name": "Python 3"
    },
    "language_info": {
      "name": "python"
    }
  },
  "cells": [
    {
      "cell_type": "code",
      "execution_count": 1,
      "metadata": {
        "id": "vEYSn-lzNbqq"
      },
      "outputs": [],
      "source": [
        "import spacy"
      ]
    },
    {
      "cell_type": "code",
      "source": [
        "nlp = spacy.load('en_core_web_sm')"
      ],
      "metadata": {
        "id": "z52cUhabNniX"
      },
      "execution_count": 6,
      "outputs": []
    },
    {
      "cell_type": "code",
      "source": [
        "doc = nlp('Apple is looking at buying U.K. startup for $1 billion')\n",
        "for token in doc:\n",
        "    print(token.text,\"--\", token.pos_,\"--\",spacy.explain(token.pos_))"
      ],
      "metadata": {
        "colab": {
          "base_uri": "https://localhost:8080/"
        },
        "id": "mafs_4INNq6w",
        "outputId": "5b96a517-e64f-4368-bc49-8d4471ddb3fb"
      },
      "execution_count": 9,
      "outputs": [
        {
          "output_type": "stream",
          "name": "stdout",
          "text": [
            "Apple -- PROPN -- proper noun\n",
            "is -- AUX -- auxiliary\n",
            "looking -- VERB -- verb\n",
            "at -- ADP -- adposition\n",
            "buying -- VERB -- verb\n",
            "U.K. -- PROPN -- proper noun\n",
            "startup -- NOUN -- noun\n",
            "for -- ADP -- adposition\n",
            "$ -- SYM -- symbol\n",
            "1 -- NUM -- numeral\n",
            "billion -- NUM -- numeral\n"
          ]
        }
      ]
    },
    {
      "cell_type": "code",
      "source": [
        "doc = nlp('Apple is looking at buying U.K. startup for $1 billion')\n",
        "for token in doc:\n",
        "    print(token.text,\"--\", token.tag_,\"--\",spacy.explain(token.tag_))"
      ],
      "metadata": {
        "colab": {
          "base_uri": "https://localhost:8080/"
        },
        "id": "lhmMDp-0PHcI",
        "outputId": "376df614-ac2e-4ec3-e822-be7b074a9dee"
      },
      "execution_count": 10,
      "outputs": [
        {
          "output_type": "stream",
          "name": "stdout",
          "text": [
            "Apple -- NNP -- noun, proper singular\n",
            "is -- VBZ -- verb, 3rd person singular present\n",
            "looking -- VBG -- verb, gerund or present participle\n",
            "at -- IN -- conjunction, subordinating or preposition\n",
            "buying -- VBG -- verb, gerund or present participle\n",
            "U.K. -- NNP -- noun, proper singular\n",
            "startup -- NN -- noun, singular or mass\n",
            "for -- IN -- conjunction, subordinating or preposition\n",
            "$ -- $ -- symbol, currency\n",
            "1 -- CD -- cardinal number\n",
            "billion -- CD -- cardinal number\n"
          ]
        }
      ]
    },
    {
      "cell_type": "code",
      "source": [
        "count = doc.count_by(spacy.attrs.POS)\n",
        "print(count)"
      ],
      "metadata": {
        "colab": {
          "base_uri": "https://localhost:8080/"
        },
        "id": "01S1X7vDQKL0",
        "outputId": "6fa68cda-afc0-41ac-9509-34bf8068f8dd"
      },
      "execution_count": 13,
      "outputs": [
        {
          "output_type": "stream",
          "name": "stdout",
          "text": [
            "{96: 2, 87: 1, 100: 2, 85: 2, 92: 1, 99: 1, 93: 2}\n"
          ]
        }
      ]
    },
    {
      "cell_type": "code",
      "source": [
        "for k,v in count.items():\n",
        "    print(doc.vocab[k].text,\"--\",v)"
      ],
      "metadata": {
        "colab": {
          "base_uri": "https://localhost:8080/"
        },
        "id": "ea0TLRkUQe_J",
        "outputId": "19ca021e-929d-4a08-cd5b-f6fdf5dd8b0f"
      },
      "execution_count": 14,
      "outputs": [
        {
          "output_type": "stream",
          "name": "stdout",
          "text": [
            "PROPN -- 2\n",
            "AUX -- 1\n",
            "VERB -- 2\n",
            "ADP -- 2\n",
            "NOUN -- 1\n",
            "SYM -- 1\n",
            "NUM -- 2\n"
          ]
        }
      ]
    },
    {
      "cell_type": "markdown",
      "source": [
        "##Exercise\n"
      ],
      "metadata": {
        "id": "EPKDdKaHRL6z"
      }
    },
    {
      "cell_type": "markdown",
      "source": [
        "Exercise for Spacy POS tutorial,\n",
        "\n",
        "You are parsing a news story from cnbc.com. News story is stores in news_story.txt which is available in this same folder on github. You need to,\n",
        "Extract all NOUN tokens from this story. You will have to read the file in python first to collect all the text and then extract NOUNs in a python list\n",
        "Extract all numbers (NUM POS type) in a python list\n",
        "Print a count of all POS tags in this story"
      ],
      "metadata": {
        "id": "doatM_Z-RJqP"
      }
    },
    {
      "cell_type": "code",
      "source": [
        "with open('news_story.txt','r') as f:\n",
        "  doc = nlp(f.read())"
      ],
      "metadata": {
        "id": "0TShC3OfRSWr"
      },
      "execution_count": 27,
      "outputs": []
    },
    {
      "cell_type": "code",
      "source": [
        "noun=[]\n",
        "for token in doc:\n",
        "  if token.pos_ == 'NOUN':\n",
        "    noun.append(token.text)\n",
        "print(noun)"
      ],
      "metadata": {
        "colab": {
          "base_uri": "https://localhost:8080/"
        },
        "id": "4lJH3urAR4Km",
        "outputId": "24b13d21-4ac1-40c1-b8da-66cffd34614b"
      },
      "execution_count": 31,
      "outputs": [
        {
          "output_type": "stream",
          "name": "stdout",
          "text": [
            "['Inflation', 'climb', 'consumers', 'brink', 'expansion', 'consumer', 'price', 'index', 'measure', 'prices', 'goods', 'services', '%', 'year', 'estimate', '%', 'gain', 'ease', 'peak', 'level', 'summer', 'food', 'energy', 'prices', 'core', '%', 'expectations', '%', 'gain', 'hopes', 'inflation', 'month', 'month', 'gains', 'expectations', '%', 'headline', '%', 'estimate', '%', 'increase', 'core', 'outlook', '%', 'gain', 'price', 'gains', 'workers', 'ground', 'wages', 'inflation', '%', 'month', 'increase', '%', 'earnings', 'year', 'earnings', '%', 'earnings', '%', 'Inflation', 'threat', 'recovery', 'pandemic', 'economy', 'stage', 'year', 'growth', 'level', 'prices', 'pump', 'grocery', 'stores', 'problem', 'inflation', 'areas', 'housing', 'auto', 'sales', 'host', 'areas', 'officials', 'problem', 'interest', 'rate', 'hikes', 'year', 'pledges', 'inflation', 'bank', '%', 'goal', 'data', 'job', 'Credits']\n"
          ]
        }
      ]
    },
    {
      "cell_type": "code",
      "source": [
        "count = doc.count_by(spacy.attrs.POS)\n",
        "print(count)"
      ],
      "metadata": {
        "colab": {
          "base_uri": "https://localhost:8080/"
        },
        "id": "muXA0ecQTpOn",
        "outputId": "e9694167-9992-4976-b716-b5576add4dee"
      },
      "execution_count": 33,
      "outputs": [
        {
          "output_type": "stream",
          "name": "stdout",
          "text": [
            "{92: 96, 100: 27, 86: 15, 85: 39, 96: 16, 97: 32, 90: 34, 95: 4, 87: 13, 89: 10, 84: 23, 103: 7, 93: 19, 94: 4, 98: 8, 101: 1}\n"
          ]
        }
      ]
    },
    {
      "cell_type": "code",
      "source": [
        "for k,v in count.items():\n",
        "    print(doc.vocab[k].text,\"--\",v)"
      ],
      "metadata": {
        "colab": {
          "base_uri": "https://localhost:8080/"
        },
        "id": "0kpcUQbVTvtm",
        "outputId": "38300f43-3249-47eb-b281-f89f021002c0"
      },
      "execution_count": 34,
      "outputs": [
        {
          "output_type": "stream",
          "name": "stdout",
          "text": [
            "NOUN -- 96\n",
            "VERB -- 27\n",
            "ADV -- 15\n",
            "ADP -- 39\n",
            "PROPN -- 16\n",
            "PUNCT -- 32\n",
            "DET -- 34\n",
            "PRON -- 4\n",
            "AUX -- 13\n",
            "CCONJ -- 10\n",
            "ADJ -- 23\n",
            "SPACE -- 7\n",
            "NUM -- 19\n",
            "PART -- 4\n",
            "SCONJ -- 8\n",
            "X -- 1\n"
          ]
        }
      ]
    }
  ]
}